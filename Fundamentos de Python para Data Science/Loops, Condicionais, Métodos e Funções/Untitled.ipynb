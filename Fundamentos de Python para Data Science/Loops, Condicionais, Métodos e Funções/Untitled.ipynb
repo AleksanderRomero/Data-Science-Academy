{
 "cells": [
  {
   "cell_type": "code",
   "execution_count": null,
   "id": "989dc471-b7e0-4776-b262-91aee579b68c",
   "metadata": {},
   "outputs": [],
   "source": []
  }
 ],
 "metadata": {
  "kernelspec": {
   "display_name": "Python 3 (ipykernel)",
   "language": "python",
   "name": "python3"
  },
  "language_info": {
   "codemirror_mode": {
    "name": "ipython",
    "version": 3
   },
   "file_extension": ".py",
   "mimetype": "text/x-python",
   "name": "python",
   "nbconvert_exporter": "python",
   "pygments_lexer": "ipython3",
   "version": "3.11.7"
  }
 },
 "nbformat": 4,
 "nbformat_minor": 5
}
